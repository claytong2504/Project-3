{
 "cells": [
  {
   "cell_type": "markdown",
   "metadata": {},
   "source": [
    "# **Project 3C BIMM 143**\n",
    "## **Scientific Question: Is there a link between levels of childhood obesity and the development of cardiovascular disease?**\n",
    " Over the past 30 years, the rate of obesity in adolescents and children has tripled which raises many concerns. According to data from the Centers for Disease Control and Prevention, 13.9% of children ages 2 to 5, 18.4% of children ages 6 to 11 and 20.6% of children ages 12 to 19 are considered obese. This means an overall of 18.5% of children or 13.7 million children are considered obese in the United States(“What Is Cardiovascular Disease?” Www.heart.org, www.heart.org/en/health-topics/consumer-healthcare/what-is-cardiovascular-disease.). \n",
    " \n",
    " This is very concerning data because it is thought that obesity can increase the risk for development of multiple diseases. One of these diseases is cardiovascular disease. Also known as heart disease, it includes many problems with many of them being related to atherosclerosis. Atherosclerosis is the condition when plaque builds up in the walls of the arteries which can restrict blood flow. If a blood clot forms in the arteries due to the plaque, it can block blood flow and cause a heart attack or stroke. \n",
    " I am currently still trying to find a suitable database for my project.\n",
    "\n",
    "## **Scientific Hypothesis: If childhood obesity increases the development of cardiovascular disease risk factors like high blood pressure and high cholesterol, it will increase the risk for development of cardiovascular disease.**\n",
    " Cardiovascular disease is linked to risk factors that increase the chance of developing CVD. Two important risk factors that will be analyzed are high blood pressure and high cholesterol levels among patients that are considered obese. Measurements of blood pressure and cholesterol levels will be taken from control groups and groups that are obese (Determining if a patient is obese comes from BMI measurments that are greater than 30. The two set of measurments from each group will be used in an array to calculate mean and standard deviation. With the mean and standard deviation, a t-test will be run to determine the p-values for the comparison between the two groups. Histograms for blood pressure and cholesterol will also be create to display the visual difference between the two datasets. A bar graph will finally be created to compare the average blood pressure and cholesterol levels of each group. \n",
    " \n",
    " To answer the scientific question and test my hypothesis, I will make up data to represnt the measurments of blood pressure and cholesterol level for control patients and obese patients. This data will then be compiled into a numpy array and then ran through the process of a t-test. \n",
    " \n",
    " ## **Part 1: Load the Packages**\n"
   ]
  },
  {
   "cell_type": "markdown",
   "metadata": {},
   "source": []
  },
  {
   "cell_type": "code",
   "execution_count": 15,
   "metadata": {
    "scrolled": true
   },
   "outputs": [],
   "source": [
    "import numpy as np\n",
    "from scipy import stats \n",
    "\n"
   ]
  },
  {
   "cell_type": "markdown",
   "metadata": {},
   "source": [
    "## **Part 2: Load in the Data** and perform bioinformatics analysis\n"
   ]
  },
  {
   "cell_type": "code",
   "execution_count": 16,
   "metadata": {
    "scrolled": true
   },
   "outputs": [
    {
     "name": "stdout",
     "output_type": "stream",
     "text": [
      "120.2\n",
      "135.4\n",
      "12.367699866992245\n",
      "9.013323471395\n",
      "152.95999999999998\n",
      "81.24000000000001\n",
      "1.8828163466272767\n",
      "population variances can be considered equal\n",
      "Ttest_indResult(statistic=-6.202723844519833, pvalue=2.4741435466561093e-08)\n"
     ]
    }
   ],
   "source": [
    "#Blood pressure values will be given to groups based on the systolic number and the range of the values is (100-150). Being below 130 is considered normal blood pressure, 130-160 is considered hypertension or high blood pressure.  \n",
    "control_patients = [113, 130, 137, 136, 132, 107, 127, 137, 101, 118, 109, 112, 122, 112, 115, 105, 134, 105, 119, 106, 113, 107, 101, 137, 137, 104, 136, 110, 139, 115, 121, 106, 116, 126, 129, 133, 124, 135, 135, 107]\n",
    "obese_patients = [121, 141, 138, 122, 148, 136, 125, 145, 123, 147, 148, 148, 136, 149, 143, 132, 147, 140, 123, 134, 127, 125, 131, 136, 143, 127, 140, 128, 131, 127, 132, 120, 146, 144, 126, 135, 131, 142, 149, 130]\n",
    "\n",
    "#Create numpy arrays for the datasets from each group\n",
    "control_array = np.array(control_patients)\n",
    "obese_array = np.array(obese_patients)\n",
    "\n",
    "#Calculate mean for each array\n",
    "control_mean = np.mean(control_array)\n",
    "obese_mean = np.mean(obese_array)\n",
    "\n",
    "print(control_mean)\n",
    "print(obese_mean)\n",
    "#Calculate the Standard deviation for each array\n",
    "control_std = np.std(control_array)\n",
    "obese_std = np.std(obese_array)\n",
    "\n",
    "print(control_std)\n",
    "print(obese_std)\n",
    "\n",
    "#Calculate the variance of each dataset and determine if the variances can be considered equal. Ratio of variances < 4 is considered equal.\n",
    "control_variance = np.var(control_array)\n",
    "obese_variance = np.var(obese_array)\n",
    "\n",
    "print(control_variance)\n",
    "print(obese_variance)\n",
    "\n",
    "#Calculate the variance ratio to determine if the population variances are equal\n",
    "variance_ratio = control_variance / obese_variance\n",
    "print(variance_ratio)\n",
    "if variance_ratio < 4 :\n",
    "    print(\"population variances can be considered equal\")\n",
    "else :\n",
    "        print(\"population variances can not be considered equal\")\n",
    "        \n",
    "#perform a two sample t-test with equal variances\n",
    "blood_pressure_ttest = stats.ttest_ind(control_array, obese_array, equal_var=True)\n",
    "print(blood_pressure_ttest)"
   ]
  },
  {
   "cell_type": "markdown",
   "metadata": {},
   "source": [
    "This whole code section will be replicated for cholesterol and then using the data calculated, a histogram for each group and bar graph for each group will be coded for the final part of the project. Sorry but I have been busy this week so this is all I can manage for now. I need to finish up other classes and study for their finals. Also, the p-value seems super low so I might adjust the data to get a more reasonable outcome. "
   ]
  },
  {
   "cell_type": "markdown",
   "metadata": {},
   "source": [
    "## **Part 3: Create a histogram or bar graph showing a comparison between the data for obese and control children. "
   ]
  },
  {
   "cell_type": "markdown",
   "metadata": {},
   "source": []
  }
 ],
 "metadata": {
  "kernelspec": {
   "display_name": "Python 3",
   "language": "python",
   "name": "python3"
  },
  "language_info": {
   "codemirror_mode": {
    "name": "ipython",
    "version": 3
   },
   "file_extension": ".py",
   "mimetype": "text/x-python",
   "name": "python",
   "nbconvert_exporter": "python",
   "pygments_lexer": "ipython3",
   "version": "3.8.5"
  }
 },
 "nbformat": 4,
 "nbformat_minor": 4
}
